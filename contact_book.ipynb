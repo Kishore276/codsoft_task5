{
  "nbformat": 4,
  "nbformat_minor": 0,
  "metadata": {
    "colab": {
      "provenance": [],
      "authorship_tag": "ABX9TyPffCr7vLb0qu0Stsidji0d",
      "include_colab_link": true
    },
    "kernelspec": {
      "name": "python3",
      "display_name": "Python 3"
    },
    "language_info": {
      "name": "python"
    }
  },
  "cells": [
    {
      "cell_type": "markdown",
      "metadata": {
        "id": "view-in-github",
        "colab_type": "text"
      },
      "source": [
        "<a href=\"https://colab.research.google.com/github/Kishore276/codsoft_task5/blob/main/contact_book.ipynb\" target=\"_parent\"><img src=\"https://colab.research.google.com/assets/colab-badge.svg\" alt=\"Open In Colab\"/></a>"
      ]
    },
    {
      "cell_type": "code",
      "execution_count": null,
      "metadata": {
        "colab": {
          "base_uri": "https://localhost:8080/"
        },
        "id": "5ZCuBiq1ahYS",
        "outputId": "62467bbd-aeff-41a6-8340-3c34e41ae894"
      },
      "outputs": [
        {
          "name": "stdout",
          "output_type": "stream",
          "text": [
            "\n",
            "Contact Book Menu:\n",
            "1. Add Contact\n",
            "2. View Contact List\n",
            "3. Search Contact\n",
            "4. Update Contact\n",
            "5. Delete Contact\n",
            "6. Quit\n",
            "Enter your choice: 1\n",
            "Enter the name: kasi\n",
            "Enter the phone number: 1111111111\n",
            "Enter the email: ab\n",
            "Enter the address: ww\n",
            "\n",
            "Contact Book Menu:\n",
            "1. Add Contact\n",
            "2. View Contact List\n",
            "3. Search Contact\n",
            "4. Update Contact\n",
            "5. Delete Contact\n",
            "6. Quit\n",
            "Enter your choice: 6\n"
          ]
        }
      ],
      "source": [
        "class Contact:\n",
        "    def __init__(self, name, phone_number, email, address):\n",
        "        self.name = name\n",
        "        self.phone_number = phone_number\n",
        "        self.email = email\n",
        "        self.address = address\n",
        "\n",
        "class ContactBook:\n",
        "    def __init__(self):\n",
        "        self.contacts = []\n",
        "\n",
        "    def add_contact(self, contact):\n",
        "        self.contacts.append(contact)\n",
        "\n",
        "    def view_contacts(self):\n",
        "        print(\"Contact List:\")\n",
        "        for contact in self.contacts:\n",
        "            print(f\"{contact.name}: {contact.phone_number}\")\n",
        "\n",
        "    def search_contact(self, query):\n",
        "        results = []\n",
        "        for contact in self.contacts:\n",
        "            if query.lower() in contact.name.lower() or query.lower() in contact.phone_number.lower():\n",
        "                results.append(contact)\n",
        "        self.display_search_results(results)\n",
        "\n",
        "    def display_search_results(self, results):\n",
        "        print(\"Search Results:\")\n",
        "        if len(results) == 0:\n",
        "            print(\"No results found.\")\n",
        "        else:\n",
        "            for result in results:\n",
        "                print(f\"{result.name}: {result.phone_number}\")\n",
        "\n",
        "    def update_contact(self, name, new_contact):\n",
        "        for contact in self.contacts:\n",
        "            if contact.name == name:\n",
        "                contact.name = new_contact.name\n",
        "                contact.phone_number = new_contact.phone_number\n",
        "                contact.email = new_contact.email\n",
        "                contact.address = new_contact.address\n",
        "                break\n",
        "\n",
        "    def delete_contact(self, name):\n",
        "        self.contacts = [contact for contact in self.contacts if contact.name != name]\n",
        "\n",
        "def main():\n",
        "    contact_book = ContactBook()\n",
        "\n",
        "    while True:\n",
        "        print(\"\\nContact Book Menu:\")\n",
        "        print(\"1. Add Contact\")\n",
        "        print(\"2. View Contact List\")\n",
        "        print(\"3. Search Contact\")\n",
        "        print(\"4. Update Contact\")\n",
        "        print(\"5. Delete Contact\")\n",
        "        print(\"6. Quit\")\n",
        "\n",
        "        choice = int(input(\"Enter your choice: \"))\n",
        "\n",
        "        if choice == 1:\n",
        "            name = input(\"Enter the name: \")\n",
        "            phone_number = input(\"Enter the phone number: \")\n",
        "            email = input(\"Enter the email: \")\n",
        "            address = input(\"Enter the address: \")\n",
        "            contact = Contact(name, phone_number, email, address)\n",
        "            contact_book.add_contact(contact)\n",
        "\n",
        "        elif choice == 2:\n",
        "            contact_book.view_contacts()\n",
        "\n",
        "        elif choice == 3:\n",
        "            query = input(\"Enter the search query: \")\n",
        "            contact_book.search_contact(query)\n",
        "\n",
        "        elif choice == 4:\n",
        "            name = input(\"Enter the name of the contact to update: \")\n",
        "            new_name = input(\"Enter the new name: \")\n",
        "            new_phone_number = input(\"Enter the new phone number: \")\n",
        "            new_email = input(\"Enter the new email: \")\n",
        "            new_address = input(\"Enter the new address: \")\n",
        "            new_contact = Contact(new_name, new_phone_number, new_email, new_address)\n",
        "            contact_book.update_contact(name, new_contact)\n",
        "\n",
        "        elif choice == 5:\n",
        "            name = input(\"Enter the name of the contact to delete: \")\n",
        "            contact_book.delete_contact(name)\n",
        "\n",
        "        elif choice == 6:\n",
        "            break\n",
        "\n",
        "if __name__ == \"__main__\":\n",
        "    main()"
      ]
    }
  ]
}